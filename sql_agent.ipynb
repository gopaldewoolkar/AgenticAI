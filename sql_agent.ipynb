{
  "nbformat": 4,
  "nbformat_minor": 0,
  "metadata": {
    "colab": {
      "provenance": [],
      "authorship_tag": "ABX9TyP2kaLEVVvZ/TxMG8YOYgOj",
      "include_colab_link": true
    },
    "kernelspec": {
      "name": "python3",
      "display_name": "Python 3"
    },
    "language_info": {
      "name": "python"
    }
  },
  "cells": [
    {
      "cell_type": "markdown",
      "metadata": {
        "id": "view-in-github",
        "colab_type": "text"
      },
      "source": [
        "<a href=\"https://colab.research.google.com/github/gopaldewoolkar/AgenticAI/blob/main/sql_agent.ipynb\" target=\"_parent\"><img src=\"https://colab.research.google.com/assets/colab-badge.svg\" alt=\"Open In Colab\"/></a>"
      ]
    },
    {
      "cell_type": "code",
      "source": [
        "!pip install -U langgraph langchain_openai langchain_community langchain langchain_groq"
      ],
      "metadata": {
        "colab": {
          "base_uri": "https://localhost:8080/"
        },
        "id": "8W-Lbm8_aJ27",
        "outputId": "e1b496b2-b539-4ae7-ff51-8579555532be"
      },
      "execution_count": 1,
      "outputs": [
        {
          "output_type": "stream",
          "name": "stdout",
          "text": [
            "Collecting langgraph\n",
            "  Downloading langgraph-0.2.61-py3-none-any.whl.metadata (15 kB)\n",
            "Collecting langchain_openai\n",
            "  Downloading langchain_openai-0.2.14-py3-none-any.whl.metadata (2.7 kB)\n",
            "Collecting langchain_community\n",
            "  Downloading langchain_community-0.3.14-py3-none-any.whl.metadata (2.9 kB)\n",
            "Requirement already satisfied: langchain in /usr/local/lib/python3.10/dist-packages (0.3.14)\n",
            "Collecting langchain_groq\n",
            "  Downloading langchain_groq-0.2.3-py3-none-any.whl.metadata (3.0 kB)\n",
            "Requirement already satisfied: langchain-core!=0.3.0,!=0.3.1,!=0.3.10,!=0.3.11,!=0.3.12,!=0.3.13,!=0.3.14,!=0.3.15,!=0.3.16,!=0.3.17,!=0.3.18,!=0.3.19,!=0.3.2,!=0.3.20,!=0.3.21,!=0.3.22,!=0.3.3,!=0.3.4,!=0.3.5,!=0.3.6,!=0.3.7,!=0.3.8,!=0.3.9,<0.4.0,>=0.2.43 in /usr/local/lib/python3.10/dist-packages (from langgraph) (0.3.29)\n",
            "Collecting langgraph-checkpoint<3.0.0,>=2.0.4 (from langgraph)\n",
            "  Downloading langgraph_checkpoint-2.0.9-py3-none-any.whl.metadata (4.6 kB)\n",
            "Collecting langgraph-sdk<0.2.0,>=0.1.42 (from langgraph)\n",
            "  Downloading langgraph_sdk-0.1.48-py3-none-any.whl.metadata (1.8 kB)\n",
            "Requirement already satisfied: openai<2.0.0,>=1.58.1 in /usr/local/lib/python3.10/dist-packages (from langchain_openai) (1.59.3)\n",
            "Collecting tiktoken<1,>=0.7 (from langchain_openai)\n",
            "  Downloading tiktoken-0.8.0-cp310-cp310-manylinux_2_17_x86_64.manylinux2014_x86_64.whl.metadata (6.6 kB)\n",
            "Requirement already satisfied: PyYAML>=5.3 in /usr/local/lib/python3.10/dist-packages (from langchain_community) (6.0.2)\n",
            "Requirement already satisfied: SQLAlchemy<3,>=1.4 in /usr/local/lib/python3.10/dist-packages (from langchain_community) (2.0.36)\n",
            "Requirement already satisfied: aiohttp<4.0.0,>=3.8.3 in /usr/local/lib/python3.10/dist-packages (from langchain_community) (3.11.11)\n",
            "Collecting dataclasses-json<0.7,>=0.5.7 (from langchain_community)\n",
            "  Downloading dataclasses_json-0.6.7-py3-none-any.whl.metadata (25 kB)\n",
            "Collecting httpx-sse<0.5.0,>=0.4.0 (from langchain_community)\n",
            "  Downloading httpx_sse-0.4.0-py3-none-any.whl.metadata (9.0 kB)\n",
            "Requirement already satisfied: langsmith<0.3,>=0.1.125 in /usr/local/lib/python3.10/dist-packages (from langchain_community) (0.2.10)\n",
            "Requirement already satisfied: numpy<2,>=1.22.4 in /usr/local/lib/python3.10/dist-packages (from langchain_community) (1.26.4)\n",
            "Collecting pydantic-settings<3.0.0,>=2.4.0 (from langchain_community)\n",
            "  Downloading pydantic_settings-2.7.1-py3-none-any.whl.metadata (3.5 kB)\n",
            "Requirement already satisfied: requests<3,>=2 in /usr/local/lib/python3.10/dist-packages (from langchain_community) (2.32.3)\n",
            "Requirement already satisfied: tenacity!=8.4.0,<10,>=8.1.0 in /usr/local/lib/python3.10/dist-packages (from langchain_community) (9.0.0)\n",
            "Requirement already satisfied: async-timeout<5.0.0,>=4.0.0 in /usr/local/lib/python3.10/dist-packages (from langchain) (4.0.3)\n",
            "Requirement already satisfied: langchain-text-splitters<0.4.0,>=0.3.3 in /usr/local/lib/python3.10/dist-packages (from langchain) (0.3.4)\n",
            "Requirement already satisfied: pydantic<3.0.0,>=2.7.4 in /usr/local/lib/python3.10/dist-packages (from langchain) (2.10.4)\n",
            "Collecting groq<1,>=0.4.1 (from langchain_groq)\n",
            "  Downloading groq-0.14.0-py3-none-any.whl.metadata (14 kB)\n",
            "Requirement already satisfied: aiohappyeyeballs>=2.3.0 in /usr/local/lib/python3.10/dist-packages (from aiohttp<4.0.0,>=3.8.3->langchain_community) (2.4.4)\n",
            "Requirement already satisfied: aiosignal>=1.1.2 in /usr/local/lib/python3.10/dist-packages (from aiohttp<4.0.0,>=3.8.3->langchain_community) (1.3.2)\n",
            "Requirement already satisfied: attrs>=17.3.0 in /usr/local/lib/python3.10/dist-packages (from aiohttp<4.0.0,>=3.8.3->langchain_community) (24.3.0)\n",
            "Requirement already satisfied: frozenlist>=1.1.1 in /usr/local/lib/python3.10/dist-packages (from aiohttp<4.0.0,>=3.8.3->langchain_community) (1.5.0)\n",
            "Requirement already satisfied: multidict<7.0,>=4.5 in /usr/local/lib/python3.10/dist-packages (from aiohttp<4.0.0,>=3.8.3->langchain_community) (6.1.0)\n",
            "Requirement already satisfied: propcache>=0.2.0 in /usr/local/lib/python3.10/dist-packages (from aiohttp<4.0.0,>=3.8.3->langchain_community) (0.2.1)\n",
            "Requirement already satisfied: yarl<2.0,>=1.17.0 in /usr/local/lib/python3.10/dist-packages (from aiohttp<4.0.0,>=3.8.3->langchain_community) (1.18.3)\n",
            "Collecting marshmallow<4.0.0,>=3.18.0 (from dataclasses-json<0.7,>=0.5.7->langchain_community)\n",
            "  Downloading marshmallow-3.24.2-py3-none-any.whl.metadata (7.1 kB)\n",
            "Collecting typing-inspect<1,>=0.4.0 (from dataclasses-json<0.7,>=0.5.7->langchain_community)\n",
            "  Downloading typing_inspect-0.9.0-py3-none-any.whl.metadata (1.5 kB)\n",
            "Requirement already satisfied: anyio<5,>=3.5.0 in /usr/local/lib/python3.10/dist-packages (from groq<1,>=0.4.1->langchain_groq) (3.7.1)\n",
            "Requirement already satisfied: distro<2,>=1.7.0 in /usr/local/lib/python3.10/dist-packages (from groq<1,>=0.4.1->langchain_groq) (1.9.0)\n",
            "Requirement already satisfied: httpx<1,>=0.23.0 in /usr/local/lib/python3.10/dist-packages (from groq<1,>=0.4.1->langchain_groq) (0.28.1)\n",
            "Requirement already satisfied: sniffio in /usr/local/lib/python3.10/dist-packages (from groq<1,>=0.4.1->langchain_groq) (1.3.1)\n",
            "Requirement already satisfied: typing-extensions<5,>=4.10 in /usr/local/lib/python3.10/dist-packages (from groq<1,>=0.4.1->langchain_groq) (4.12.2)\n",
            "Requirement already satisfied: jsonpatch<2.0,>=1.33 in /usr/local/lib/python3.10/dist-packages (from langchain-core!=0.3.0,!=0.3.1,!=0.3.10,!=0.3.11,!=0.3.12,!=0.3.13,!=0.3.14,!=0.3.15,!=0.3.16,!=0.3.17,!=0.3.18,!=0.3.19,!=0.3.2,!=0.3.20,!=0.3.21,!=0.3.22,!=0.3.3,!=0.3.4,!=0.3.5,!=0.3.6,!=0.3.7,!=0.3.8,!=0.3.9,<0.4.0,>=0.2.43->langgraph) (1.33)\n",
            "Requirement already satisfied: packaging<25,>=23.2 in /usr/local/lib/python3.10/dist-packages (from langchain-core!=0.3.0,!=0.3.1,!=0.3.10,!=0.3.11,!=0.3.12,!=0.3.13,!=0.3.14,!=0.3.15,!=0.3.16,!=0.3.17,!=0.3.18,!=0.3.19,!=0.3.2,!=0.3.20,!=0.3.21,!=0.3.22,!=0.3.3,!=0.3.4,!=0.3.5,!=0.3.6,!=0.3.7,!=0.3.8,!=0.3.9,<0.4.0,>=0.2.43->langgraph) (24.2)\n",
            "Requirement already satisfied: msgpack<2.0.0,>=1.1.0 in /usr/local/lib/python3.10/dist-packages (from langgraph-checkpoint<3.0.0,>=2.0.4->langgraph) (1.1.0)\n",
            "Requirement already satisfied: orjson>=3.10.1 in /usr/local/lib/python3.10/dist-packages (from langgraph-sdk<0.2.0,>=0.1.42->langgraph) (3.10.13)\n",
            "Requirement already satisfied: requests-toolbelt<2.0.0,>=1.0.0 in /usr/local/lib/python3.10/dist-packages (from langsmith<0.3,>=0.1.125->langchain_community) (1.0.0)\n",
            "Requirement already satisfied: jiter<1,>=0.4.0 in /usr/local/lib/python3.10/dist-packages (from openai<2.0.0,>=1.58.1->langchain_openai) (0.8.2)\n",
            "Requirement already satisfied: tqdm>4 in /usr/local/lib/python3.10/dist-packages (from openai<2.0.0,>=1.58.1->langchain_openai) (4.67.1)\n",
            "Requirement already satisfied: annotated-types>=0.6.0 in /usr/local/lib/python3.10/dist-packages (from pydantic<3.0.0,>=2.7.4->langchain) (0.7.0)\n",
            "Requirement already satisfied: pydantic-core==2.27.2 in /usr/local/lib/python3.10/dist-packages (from pydantic<3.0.0,>=2.7.4->langchain) (2.27.2)\n",
            "Collecting python-dotenv>=0.21.0 (from pydantic-settings<3.0.0,>=2.4.0->langchain_community)\n",
            "  Downloading python_dotenv-1.0.1-py3-none-any.whl.metadata (23 kB)\n",
            "Requirement already satisfied: charset-normalizer<4,>=2 in /usr/local/lib/python3.10/dist-packages (from requests<3,>=2->langchain_community) (3.4.1)\n",
            "Requirement already satisfied: idna<4,>=2.5 in /usr/local/lib/python3.10/dist-packages (from requests<3,>=2->langchain_community) (3.10)\n",
            "Requirement already satisfied: urllib3<3,>=1.21.1 in /usr/local/lib/python3.10/dist-packages (from requests<3,>=2->langchain_community) (2.3.0)\n",
            "Requirement already satisfied: certifi>=2017.4.17 in /usr/local/lib/python3.10/dist-packages (from requests<3,>=2->langchain_community) (2024.12.14)\n",
            "Requirement already satisfied: greenlet!=0.4.17 in /usr/local/lib/python3.10/dist-packages (from SQLAlchemy<3,>=1.4->langchain_community) (3.1.1)\n",
            "Requirement already satisfied: regex>=2022.1.18 in /usr/local/lib/python3.10/dist-packages (from tiktoken<1,>=0.7->langchain_openai) (2024.11.6)\n",
            "Requirement already satisfied: exceptiongroup in /usr/local/lib/python3.10/dist-packages (from anyio<5,>=3.5.0->groq<1,>=0.4.1->langchain_groq) (1.2.2)\n",
            "Requirement already satisfied: httpcore==1.* in /usr/local/lib/python3.10/dist-packages (from httpx<1,>=0.23.0->groq<1,>=0.4.1->langchain_groq) (1.0.7)\n",
            "Requirement already satisfied: h11<0.15,>=0.13 in /usr/local/lib/python3.10/dist-packages (from httpcore==1.*->httpx<1,>=0.23.0->groq<1,>=0.4.1->langchain_groq) (0.14.0)\n",
            "Requirement already satisfied: jsonpointer>=1.9 in /usr/local/lib/python3.10/dist-packages (from jsonpatch<2.0,>=1.33->langchain-core!=0.3.0,!=0.3.1,!=0.3.10,!=0.3.11,!=0.3.12,!=0.3.13,!=0.3.14,!=0.3.15,!=0.3.16,!=0.3.17,!=0.3.18,!=0.3.19,!=0.3.2,!=0.3.20,!=0.3.21,!=0.3.22,!=0.3.3,!=0.3.4,!=0.3.5,!=0.3.6,!=0.3.7,!=0.3.8,!=0.3.9,<0.4.0,>=0.2.43->langgraph) (3.0.0)\n",
            "Collecting mypy-extensions>=0.3.0 (from typing-inspect<1,>=0.4.0->dataclasses-json<0.7,>=0.5.7->langchain_community)\n",
            "  Downloading mypy_extensions-1.0.0-py3-none-any.whl.metadata (1.1 kB)\n",
            "Downloading langgraph-0.2.61-py3-none-any.whl (137 kB)\n",
            "\u001b[2K   \u001b[90m━━━━━━━━━━━━━━━━━━━━━━━━━━━━━━━━━━━━━━━━\u001b[0m \u001b[32m137.2/137.2 kB\u001b[0m \u001b[31m4.3 MB/s\u001b[0m eta \u001b[36m0:00:00\u001b[0m\n",
            "\u001b[?25hDownloading langchain_openai-0.2.14-py3-none-any.whl (50 kB)\n",
            "\u001b[2K   \u001b[90m━━━━━━━━━━━━━━━━━━━━━━━━━━━━━━━━━━━━━━━━\u001b[0m \u001b[32m50.9/50.9 kB\u001b[0m \u001b[31m2.2 MB/s\u001b[0m eta \u001b[36m0:00:00\u001b[0m\n",
            "\u001b[?25hDownloading langchain_community-0.3.14-py3-none-any.whl (2.5 MB)\n",
            "\u001b[2K   \u001b[90m━━━━━━━━━━━━━━━━━━━━━━━━━━━━━━━━━━━━━━━━\u001b[0m \u001b[32m2.5/2.5 MB\u001b[0m \u001b[31m6.1 MB/s\u001b[0m eta \u001b[36m0:00:00\u001b[0m\n",
            "\u001b[?25hDownloading langchain_groq-0.2.3-py3-none-any.whl (14 kB)\n",
            "Downloading dataclasses_json-0.6.7-py3-none-any.whl (28 kB)\n",
            "Downloading groq-0.14.0-py3-none-any.whl (109 kB)\n",
            "\u001b[2K   \u001b[90m━━━━━━━━━━━━━━━━━━━━━━━━━━━━━━━━━━━━━━━━\u001b[0m \u001b[32m109.5/109.5 kB\u001b[0m \u001b[31m4.0 MB/s\u001b[0m eta \u001b[36m0:00:00\u001b[0m\n",
            "\u001b[?25hDownloading httpx_sse-0.4.0-py3-none-any.whl (7.8 kB)\n",
            "Downloading langgraph_checkpoint-2.0.9-py3-none-any.whl (37 kB)\n",
            "Downloading langgraph_sdk-0.1.48-py3-none-any.whl (43 kB)\n",
            "\u001b[2K   \u001b[90m━━━━━━━━━━━━━━━━━━━━━━━━━━━━━━━━━━━━━━━━\u001b[0m \u001b[32m43.7/43.7 kB\u001b[0m \u001b[31m2.8 MB/s\u001b[0m eta \u001b[36m0:00:00\u001b[0m\n",
            "\u001b[?25hDownloading pydantic_settings-2.7.1-py3-none-any.whl (29 kB)\n",
            "Downloading tiktoken-0.8.0-cp310-cp310-manylinux_2_17_x86_64.manylinux2014_x86_64.whl (1.2 MB)\n",
            "\u001b[2K   \u001b[90m━━━━━━━━━━━━━━━━━━━━━━━━━━━━━━━━━━━━━━━━\u001b[0m \u001b[32m1.2/1.2 MB\u001b[0m \u001b[31m6.5 MB/s\u001b[0m eta \u001b[36m0:00:00\u001b[0m\n",
            "\u001b[?25hDownloading marshmallow-3.24.2-py3-none-any.whl (49 kB)\n",
            "\u001b[2K   \u001b[90m━━━━━━━━━━━━━━━━━━━━━━━━━━━━━━━━━━━━━━━━\u001b[0m \u001b[32m49.3/49.3 kB\u001b[0m \u001b[31m3.1 MB/s\u001b[0m eta \u001b[36m0:00:00\u001b[0m\n",
            "\u001b[?25hDownloading python_dotenv-1.0.1-py3-none-any.whl (19 kB)\n",
            "Downloading typing_inspect-0.9.0-py3-none-any.whl (8.8 kB)\n",
            "Downloading mypy_extensions-1.0.0-py3-none-any.whl (4.7 kB)\n",
            "Installing collected packages: python-dotenv, mypy-extensions, marshmallow, httpx-sse, typing-inspect, tiktoken, pydantic-settings, langgraph-sdk, groq, dataclasses-json, langgraph-checkpoint, langchain_openai, langchain_groq, langgraph, langchain_community\n",
            "Successfully installed dataclasses-json-0.6.7 groq-0.14.0 httpx-sse-0.4.0 langchain_community-0.3.14 langchain_groq-0.2.3 langchain_openai-0.2.14 langgraph-0.2.61 langgraph-checkpoint-2.0.9 langgraph-sdk-0.1.48 marshmallow-3.24.2 mypy-extensions-1.0.0 pydantic-settings-2.7.1 python-dotenv-1.0.1 tiktoken-0.8.0 typing-inspect-0.9.0\n"
          ]
        }
      ]
    },
    {
      "cell_type": "code",
      "execution_count": 2,
      "metadata": {
        "id": "3AatuUq6Zh5H"
      },
      "outputs": [],
      "source": [
        "from google.colab import userdata\n",
        "groq_api_key = userdata.get('groq_api_key')"
      ]
    },
    {
      "cell_type": "code",
      "source": [
        "import requests\n",
        "\n",
        "url = \"https://storage.googleapis.com/benchmarks-artifacts/chinook/Chinook.db\"\n",
        "\n",
        "response = requests.get(url)\n",
        "\n",
        "if response.status_code == 200:\n",
        "    # Open a local file in binary write mode\n",
        "    with open(\"Chinook.db\", \"wb\") as file:\n",
        "        # Write the content of the response (the file) to the local file\n",
        "        file.write(response.content)\n",
        "    print(\"File downloaded and saved as Chinook.db\")\n",
        "else:\n",
        "    print(f\"Failed to download the file. Status code: {response.status_code}\")"
      ],
      "metadata": {
        "colab": {
          "base_uri": "https://localhost:8080/"
        },
        "id": "kq5L6Ys2aaC5",
        "outputId": "06dadcba-9b3f-4bf1-cb38-cee836887db9"
      },
      "execution_count": 3,
      "outputs": [
        {
          "output_type": "stream",
          "name": "stdout",
          "text": [
            "File downloaded and saved as Chinook.db\n"
          ]
        }
      ]
    },
    {
      "cell_type": "markdown",
      "source": [
        "# Instantiate Database"
      ],
      "metadata": {
        "id": "TQjR54OLbWG9"
      }
    },
    {
      "cell_type": "code",
      "source": [
        "from langchain_community.utilities import SQLDatabase\n",
        "\n",
        "db = SQLDatabase.from_uri(\"sqlite:///Chinook.db\")\n",
        "print(db.dialect)\n",
        "print(db.get_usable_table_names())"
      ],
      "metadata": {
        "colab": {
          "base_uri": "https://localhost:8080/"
        },
        "id": "hrswKw1fagod",
        "outputId": "d8786f33-09ae-4643-8461-7d5601a34816"
      },
      "execution_count": 4,
      "outputs": [
        {
          "output_type": "stream",
          "name": "stdout",
          "text": [
            "sqlite\n",
            "['Album', 'Artist', 'Customer', 'Employee', 'Genre', 'Invoice', 'InvoiceLine', 'MediaType', 'Playlist', 'PlaylistTrack', 'Track']\n"
          ]
        }
      ]
    },
    {
      "cell_type": "markdown",
      "source": [
        "# Config"
      ],
      "metadata": {
        "id": "_hizErwHbqQI"
      }
    },
    {
      "cell_type": "code",
      "source": [
        "import os\n",
        "from google.colab import userdata\n",
        "\n",
        "os.environ[\"GROQ_API_KEY\"] = userdata.get(\"groq_api_key\")\n",
        "os.environ[\"LANGCHAIN_API_KEY\"] = userdata.get(\"langsmith_api_key\")\n",
        "os.environ[\"LANGCHAIN_ENDPOINT\"] = \"https://api.smith.langchain.com\"\n",
        "os.environ[\"LANGSMITH_TRACING_V2\"] = \"true\"\n",
        "os.environ[\"LANGCHAIN_PROJECT\"] = \"New SQL AGENT\""
      ],
      "metadata": {
        "id": "soch9i5Qalz6"
      },
      "execution_count": 5,
      "outputs": []
    },
    {
      "cell_type": "markdown",
      "source": [
        "# Importing Packages"
      ],
      "metadata": {
        "id": "xbEGMBARbx4W"
      }
    },
    {
      "cell_type": "code",
      "source": [
        "from langchain.utilities import SQLDatabase\n",
        "from langchain_groq import ChatGroq\n",
        "from langchain.agents import create_sql_agent\n",
        "from langchain.agents.agent_toolkits import SQLDatabaseToolkit\n",
        "from langchain.agents.agent_types import AgentType"
      ],
      "metadata": {
        "id": "T8PZtqfJawFI"
      },
      "execution_count": 6,
      "outputs": []
    },
    {
      "cell_type": "markdown",
      "source": [
        "# Instantiate the LLM"
      ],
      "metadata": {
        "id": "Ti71cJ7xb8i8"
      }
    },
    {
      "cell_type": "code",
      "source": [
        "llm = ChatGroq(\n",
        "    model=\"llama-3.3-70b-versatile\",\n",
        "    temperature=0,\n",
        "    verbose=True\n",
        ")"
      ],
      "metadata": {
        "id": "2rlBZB1xa7H7"
      },
      "execution_count": 8,
      "outputs": []
    },
    {
      "cell_type": "markdown",
      "source": [
        "# Create SQL Agent"
      ],
      "metadata": {
        "id": "8cfPsrzzcScc"
      }
    },
    {
      "cell_type": "code",
      "source": [
        "agent_executor = create_sql_agent(\n",
        "    llm=llm,\n",
        "    toolkit=SQLDatabaseToolkit(db=db, llm=llm),\n",
        "    verbose=True,\n",
        "    agent_type=AgentType.ZERO_SHOT_REACT_DESCRIPTION,\n",
        ")"
      ],
      "metadata": {
        "id": "xoK-Ctwgb-Ez"
      },
      "execution_count": 9,
      "outputs": []
    },
    {
      "cell_type": "markdown",
      "source": [
        "# Test the Agent"
      ],
      "metadata": {
        "id": "B9OWkAL-cvKJ"
      }
    },
    {
      "cell_type": "code",
      "source": [
        "agent_executor.run(\n",
        "    \"How many employees are there?\"\n",
        ")"
      ],
      "metadata": {
        "colab": {
          "base_uri": "https://localhost:8080/",
          "height": 945
        },
        "id": "7DpDVp5Kctn4",
        "outputId": "1baf7eca-b369-4af3-e08c-e2c03cf1c5c7"
      },
      "execution_count": 10,
      "outputs": [
        {
          "output_type": "stream",
          "name": "stderr",
          "text": [
            "<ipython-input-10-2ed9d556a411>:1: LangChainDeprecationWarning: The method `Chain.run` was deprecated in langchain 0.1.0 and will be removed in 1.0. Use :meth:`~invoke` instead.\n",
            "  agent_executor.run(\n"
          ]
        },
        {
          "output_type": "stream",
          "name": "stdout",
          "text": [
            "\n",
            "\n",
            "\u001b[1m> Entering new SQL Agent Executor chain...\u001b[0m\n",
            "\u001b[32;1m\u001b[1;3mThought: I should look at the tables in the database to see what I can query.  Then I should query the schema of the most relevant tables.\n",
            "Action: sql_db_list_tables\n",
            "Action Input: \u001b[0m\u001b[38;5;200m\u001b[1;3mAlbum, Artist, Customer, Employee, Genre, Invoice, InvoiceLine, MediaType, Playlist, PlaylistTrack, Track\u001b[0m\u001b[32;1m\u001b[1;3mThe observation from the sql_db_list_tables tool shows that there is an \"Employee\" table in the database. This table is likely to contain information about the employees.\n",
            "\n",
            "Action: sql_db_schema\n",
            "Action Input: Employee\u001b[0m\u001b[33;1m\u001b[1;3m\n",
            "CREATE TABLE \"Employee\" (\n",
            "\t\"EmployeeId\" INTEGER NOT NULL, \n",
            "\t\"LastName\" NVARCHAR(20) NOT NULL, \n",
            "\t\"FirstName\" NVARCHAR(20) NOT NULL, \n",
            "\t\"Title\" NVARCHAR(30), \n",
            "\t\"ReportsTo\" INTEGER, \n",
            "\t\"BirthDate\" DATETIME, \n",
            "\t\"HireDate\" DATETIME, \n",
            "\t\"Address\" NVARCHAR(70), \n",
            "\t\"City\" NVARCHAR(40), \n",
            "\t\"State\" NVARCHAR(40), \n",
            "\t\"Country\" NVARCHAR(40), \n",
            "\t\"PostalCode\" NVARCHAR(10), \n",
            "\t\"Phone\" NVARCHAR(24), \n",
            "\t\"Fax\" NVARCHAR(24), \n",
            "\t\"Email\" NVARCHAR(60), \n",
            "\tPRIMARY KEY (\"EmployeeId\"), \n",
            "\tFOREIGN KEY(\"ReportsTo\") REFERENCES \"Employee\" (\"EmployeeId\")\n",
            ")\n",
            "\n",
            "/*\n",
            "3 rows from Employee table:\n",
            "EmployeeId\tLastName\tFirstName\tTitle\tReportsTo\tBirthDate\tHireDate\tAddress\tCity\tState\tCountry\tPostalCode\tPhone\tFax\tEmail\n",
            "1\tAdams\tAndrew\tGeneral Manager\tNone\t1962-02-18 00:00:00\t2002-08-14 00:00:00\t11120 Jasper Ave NW\tEdmonton\tAB\tCanada\tT5K 2N1\t+1 (780) 428-9482\t+1 (780) 428-3457\tandrew@chinookcorp.com\n",
            "2\tEdwards\tNancy\tSales Manager\t1\t1958-12-08 00:00:00\t2002-05-01 00:00:00\t825 8 Ave SW\tCalgary\tAB\tCanada\tT2P 2T3\t+1 (403) 262-3443\t+1 (403) 262-3322\tnancy@chinookcorp.com\n",
            "3\tPeacock\tJane\tSales Support Agent\t2\t1973-08-29 00:00:00\t2002-04-01 00:00:00\t1111 6 Ave SW\tCalgary\tAB\tCanada\tT2P 5M5\t+1 (403) 262-3443\t+1 (403) 262-6712\tjane@chinookcorp.com\n",
            "*/\u001b[0m\u001b[32;1m\u001b[1;3mThe observation from the sql_db_schema tool shows that the \"Employee\" table has a column \"EmployeeId\" which is the primary key, indicating that each employee has a unique \"EmployeeId\". To find the number of employees, I can simply count the number of rows in the \"Employee\" table.\n",
            "\n",
            "Action: sql_db_query_checker\n",
            "Action Input: SELECT COUNT(*) FROM Employee\u001b[0m\u001b[36;1m\u001b[1;3m```sql\n",
            "SELECT COUNT(*) FROM Employee\n",
            "```\u001b[0m\u001b[32;1m\u001b[1;3mThe query looks correct. It will count the number of rows in the \"Employee\" table, effectively giving us the number of employees.\n",
            "\n",
            "Action: sql_db_query\n",
            "Action Input: SELECT COUNT(*) FROM Employee\u001b[0m\u001b[36;1m\u001b[1;3m[(8,)]\u001b[0m\u001b[32;1m\u001b[1;3mI now know the final answer\n",
            "Final Answer: There are 8 employees.\u001b[0m\n",
            "\n",
            "\u001b[1m> Finished chain.\u001b[0m\n"
          ]
        },
        {
          "output_type": "execute_result",
          "data": {
            "text/plain": [
              "'There are 8 employees.'"
            ],
            "application/vnd.google.colaboratory.intrinsic+json": {
              "type": "string"
            }
          },
          "metadata": {},
          "execution_count": 10
        }
      ]
    },
    {
      "cell_type": "code",
      "source": [
        "agent_executor.invoke(\"Describe the playlisttrack table\")"
      ],
      "metadata": {
        "colab": {
          "base_uri": "https://localhost:8080/"
        },
        "id": "Eyeib0grcx-r",
        "outputId": "a9617d90-8d1c-4d9a-92f9-48217164880a"
      },
      "execution_count": 14,
      "outputs": [
        {
          "output_type": "stream",
          "name": "stdout",
          "text": [
            "\n",
            "\n",
            "\u001b[1m> Entering new SQL Agent Executor chain...\u001b[0m\n",
            "\u001b[32;1m\u001b[1;3mThought: I should look at the tables in the database to see what I can query.  Then I should query the schema of the most relevant tables.\n",
            "Action: sql_db_list_tables\n",
            "Action Input: \u001b[0m\u001b[38;5;200m\u001b[1;3mAlbum, Artist, Customer, Employee, Genre, Invoice, InvoiceLine, MediaType, Playlist, PlaylistTrack, Track\u001b[0m\u001b[32;1m\u001b[1;3mI have the list of tables in the database. Now, I should query the schema of the 'PlaylistTrack' table to understand its structure.\n",
            "\n",
            "Action: sql_db_schema\n",
            "Action Input: PlaylistTrack\u001b[0m\u001b[33;1m\u001b[1;3m\n",
            "CREATE TABLE \"PlaylistTrack\" (\n",
            "\t\"PlaylistId\" INTEGER NOT NULL, \n",
            "\t\"TrackId\" INTEGER NOT NULL, \n",
            "\tPRIMARY KEY (\"PlaylistId\", \"TrackId\"), \n",
            "\tFOREIGN KEY(\"TrackId\") REFERENCES \"Track\" (\"TrackId\"), \n",
            "\tFOREIGN KEY(\"PlaylistId\") REFERENCES \"Playlist\" (\"PlaylistId\")\n",
            ")\n",
            "\n",
            "/*\n",
            "3 rows from PlaylistTrack table:\n",
            "PlaylistId\tTrackId\n",
            "1\t3402\n",
            "1\t3389\n",
            "1\t3390\n",
            "*/\u001b[0m\u001b[32;1m\u001b[1;3mI now have the schema of the 'PlaylistTrack' table. The table has two columns: 'PlaylistId' and 'TrackId', both of which are integers and not null. The primary key is a composite key consisting of 'PlaylistId' and 'TrackId'. There are also foreign key constraints referencing the 'Track' and 'Playlist' tables.\n",
            "\n",
            "The sample rows from the 'PlaylistTrack' table show that it contains associations between playlists and tracks.\n",
            "\n",
            "Thought: I now know the final answer\n",
            "Final Answer: The PlaylistTrack table is a junction table that associates playlists with tracks, with foreign keys to the Playlist and Track tables. It has two columns: PlaylistId and TrackId, which together form the primary key.\u001b[0m\n",
            "\n",
            "\u001b[1m> Finished chain.\u001b[0m\n"
          ]
        },
        {
          "output_type": "execute_result",
          "data": {
            "text/plain": [
              "{'input': 'Describe the playlisttrack table',\n",
              " 'output': 'The PlaylistTrack table is a junction table that associates playlists with tracks, with foreign keys to the Playlist and Track tables. It has two columns: PlaylistId and TrackId, which together form the primary key.'}"
            ]
          },
          "metadata": {},
          "execution_count": 14
        }
      ]
    },
    {
      "cell_type": "code",
      "source": [
        "agent_executor.invoke(\"Who are the top 3 best selling artists?\")"
      ],
      "metadata": {
        "colab": {
          "base_uri": "https://localhost:8080/"
        },
        "id": "MwXa5JWGdFo7",
        "outputId": "d26a2ead-b4d1-4b5b-c3b4-112097720d44"
      },
      "execution_count": 15,
      "outputs": [
        {
          "output_type": "stream",
          "name": "stdout",
          "text": [
            "\n",
            "\n",
            "\u001b[1m> Entering new SQL Agent Executor chain...\u001b[0m\n",
            "\u001b[32;1m\u001b[1;3mAction: sql_db_list_tables\n",
            "Action Input: \u001b[0m\u001b[38;5;200m\u001b[1;3mAlbum, Artist, Customer, Employee, Genre, Invoice, InvoiceLine, MediaType, Playlist, PlaylistTrack, Track\u001b[0m\u001b[32;1m\u001b[1;3mThe observation from the sql_db_list_tables tool shows that there are several tables in the database, including Album, Artist, Customer, Employee, Genre, Invoice, InvoiceLine, MediaType, Playlist, PlaylistTrack, and Track. To find the top 3 best selling artists, I should look at the schema of the Artist, Album, and InvoiceLine tables, as they are likely to contain relevant information about artist sales.\n",
            "\n",
            "Action: sql_db_schema\n",
            "Action Input: Artist, Album, InvoiceLine\u001b[0m\u001b[33;1m\u001b[1;3m\n",
            "CREATE TABLE \"Album\" (\n",
            "\t\"AlbumId\" INTEGER NOT NULL, \n",
            "\t\"Title\" NVARCHAR(160) NOT NULL, \n",
            "\t\"ArtistId\" INTEGER NOT NULL, \n",
            "\tPRIMARY KEY (\"AlbumId\"), \n",
            "\tFOREIGN KEY(\"ArtistId\") REFERENCES \"Artist\" (\"ArtistId\")\n",
            ")\n",
            "\n",
            "/*\n",
            "3 rows from Album table:\n",
            "AlbumId\tTitle\tArtistId\n",
            "1\tFor Those About To Rock We Salute You\t1\n",
            "2\tBalls to the Wall\t2\n",
            "3\tRestless and Wild\t2\n",
            "*/\n",
            "\n",
            "\n",
            "CREATE TABLE \"Artist\" (\n",
            "\t\"ArtistId\" INTEGER NOT NULL, \n",
            "\t\"Name\" NVARCHAR(120), \n",
            "\tPRIMARY KEY (\"ArtistId\")\n",
            ")\n",
            "\n",
            "/*\n",
            "3 rows from Artist table:\n",
            "ArtistId\tName\n",
            "1\tAC/DC\n",
            "2\tAccept\n",
            "3\tAerosmith\n",
            "*/\n",
            "\n",
            "\n",
            "CREATE TABLE \"InvoiceLine\" (\n",
            "\t\"InvoiceLineId\" INTEGER NOT NULL, \n",
            "\t\"InvoiceId\" INTEGER NOT NULL, \n",
            "\t\"TrackId\" INTEGER NOT NULL, \n",
            "\t\"UnitPrice\" NUMERIC(10, 2) NOT NULL, \n",
            "\t\"Quantity\" INTEGER NOT NULL, \n",
            "\tPRIMARY KEY (\"InvoiceLineId\"), \n",
            "\tFOREIGN KEY(\"TrackId\") REFERENCES \"Track\" (\"TrackId\"), \n",
            "\tFOREIGN KEY(\"InvoiceId\") REFERENCES \"Invoice\" (\"InvoiceId\")\n",
            ")\n",
            "\n",
            "/*\n",
            "3 rows from InvoiceLine table:\n",
            "InvoiceLineId\tInvoiceId\tTrackId\tUnitPrice\tQuantity\n",
            "1\t1\t2\t0.99\t1\n",
            "2\t1\t4\t0.99\t1\n",
            "3\t2\t6\t0.99\t1\n",
            "*/\u001b[0m\u001b[32;1m\u001b[1;3mTo find the top 3 best selling artists, I need to join the Artist, Album, and InvoiceLine tables, and then the Track table, to get the total quantity of tracks sold for each artist. However, the schema of the Track table is not available. \n",
            "\n",
            "Action: sql_db_schema\n",
            "Action Input: Track\u001b[0m\u001b[33;1m\u001b[1;3m\n",
            "CREATE TABLE \"Track\" (\n",
            "\t\"TrackId\" INTEGER NOT NULL, \n",
            "\t\"Name\" NVARCHAR(200) NOT NULL, \n",
            "\t\"AlbumId\" INTEGER, \n",
            "\t\"MediaTypeId\" INTEGER NOT NULL, \n",
            "\t\"GenreId\" INTEGER, \n",
            "\t\"Composer\" NVARCHAR(220), \n",
            "\t\"Milliseconds\" INTEGER NOT NULL, \n",
            "\t\"Bytes\" INTEGER, \n",
            "\t\"UnitPrice\" NUMERIC(10, 2) NOT NULL, \n",
            "\tPRIMARY KEY (\"TrackId\"), \n",
            "\tFOREIGN KEY(\"MediaTypeId\") REFERENCES \"MediaType\" (\"MediaTypeId\"), \n",
            "\tFOREIGN KEY(\"GenreId\") REFERENCES \"Genre\" (\"GenreId\"), \n",
            "\tFOREIGN KEY(\"AlbumId\") REFERENCES \"Album\" (\"AlbumId\")\n",
            ")\n",
            "\n",
            "/*\n",
            "3 rows from Track table:\n",
            "TrackId\tName\tAlbumId\tMediaTypeId\tGenreId\tComposer\tMilliseconds\tBytes\tUnitPrice\n",
            "1\tFor Those About To Rock (We Salute You)\t1\t1\t1\tAngus Young, Malcolm Young, Brian Johnson\t343719\t11170334\t0.99\n",
            "2\tBalls to the Wall\t2\t2\t1\tNone\t342562\t5510424\t0.99\n",
            "3\tFast As a Shark\t3\t2\t1\tF. Baltes, S. Kaufman, U. Dirkscneider & W. Hoffman\t230619\t3990994\t0.99\n",
            "*/\u001b[0m\u001b[32;1m\u001b[1;3mNow that I have the schema of the relevant tables, I can construct a query to find the top 3 best selling artists. \n",
            "\n",
            "To do this, I need to join the Artist, Album, Track, and InvoiceLine tables to get the total quantity of tracks sold for each artist. \n",
            "\n",
            "The query should look something like this: \n",
            "\n",
            "```sql\n",
            "SELECT a.Name, SUM(il.Quantity) as total_quantity\n",
            "FROM Artist a\n",
            "JOIN Album al ON a.ArtistId = al.ArtistId\n",
            "JOIN Track t ON al.AlbumId = t.AlbumId\n",
            "JOIN InvoiceLine il ON t.TrackId = il.TrackId\n",
            "GROUP BY a.Name\n",
            "ORDER BY total_quantity DESC\n",
            "LIMIT 3;\n",
            "```\n",
            "\n",
            "Before executing this query, I should check it with the sql_db_query_checker tool to make sure it is correct.\n",
            "\n",
            "Action: sql_db_query_checker\n",
            "Action Input: ```sql\n",
            "SELECT a.Name, SUM(il.Quantity) as total_quantity\n",
            "FROM Artist a\n",
            "JOIN Album al ON a.ArtistId = al.ArtistId\n",
            "JOIN Track t ON al.AlbumId = t.AlbumId\n",
            "JOIN InvoiceLine il ON t.TrackId = il.TrackId\n",
            "GROUP BY a.Name\n",
            "ORDER BY total_quantity DESC\n",
            "LIMIT 3;\n",
            "```\u001b[0m\u001b[36;1m\u001b[1;3m```sql\n",
            "SELECT a.Name, SUM(il.Quantity) as total_quantity\n",
            "FROM Artist a\n",
            "JOIN Album al ON a.ArtistId = al.ArtistId\n",
            "JOIN Track t ON al.AlbumId = t.AlbumId\n",
            "JOIN InvoiceLine il ON t.TrackId = il.TrackId\n",
            "GROUP BY a.Name\n",
            "ORDER BY total_quantity DESC\n",
            "LIMIT 3;\n",
            "```\u001b[0m\u001b[32;1m\u001b[1;3mThe query has been checked and is correct. Now I can execute it with the sql_db_query tool to get the results.\n",
            "\n",
            "Action: sql_db_query\n",
            "Action Input: ```sql\n",
            "SELECT a.Name, SUM(il.Quantity) as total_quantity\n",
            "FROM Artist a\n",
            "JOIN Album al ON a.ArtistId = al.ArtistId\n",
            "JOIN Track t ON al.AlbumId = t.AlbumId\n",
            "JOIN InvoiceLine il ON t.TrackId = il.TrackId\n",
            "GROUP BY a.Name\n",
            "ORDER BY total_quantity DESC\n",
            "LIMIT 3;\n",
            "```\u001b[0m\u001b[36;1m\u001b[1;3mError: (sqlite3.OperationalError) near \"```sql\n",
            "SELECT a.Name, SUM(il.Quantity) as total_quantity\n",
            "FROM Artist a\n",
            "JOIN Album al ON a.ArtistId = al.ArtistId\n",
            "JOIN Track t ON al.AlbumId = t.AlbumId\n",
            "JOIN InvoiceLine il ON t.TrackId = il.TrackId\n",
            "GROUP BY a.Name\n",
            "ORDER BY total_quantity DESC\n",
            "LIMIT 3;\n",
            "```\": syntax error\n",
            "[SQL: ```sql\n",
            "SELECT a.Name, SUM(il.Quantity) as total_quantity\n",
            "FROM Artist a\n",
            "JOIN Album al ON a.ArtistId = al.ArtistId\n",
            "JOIN Track t ON al.AlbumId = t.AlbumId\n",
            "JOIN InvoiceLine il ON t.TrackId = il.TrackId\n",
            "GROUP BY a.Name\n",
            "ORDER BY total_quantity DESC\n",
            "LIMIT 3;\n",
            "```]\n",
            "(Background on this error at: https://sqlalche.me/e/20/e3q8)\u001b[0m\u001b[32;1m\u001b[1;3mIt seems like the query I provided earlier has a syntax error. The error message is not very informative, but I can try to rewrite the query to see if that resolves the issue.\n",
            "\n",
            "Let me try rewriting the query without the unnecessary backticks.\n",
            "\n",
            "Action: sql_db_query_checker\n",
            "Action Input: ```sql\n",
            "SELECT a.Name, SUM(il.Quantity) as total_quantity\n",
            "FROM Artist a\n",
            "JOIN Album al ON a.ArtistId = al.ArtistId\n",
            "JOIN Track t ON al.AlbumId = t.AlbumId\n",
            "JOIN InvoiceLine il ON t.TrackId = il.TrackId\n",
            "GROUP BY a.Name\n",
            "ORDER BY total_quantity DESC\n",
            "LIMIT 3;\n",
            "```\u001b[0m\u001b[36;1m\u001b[1;3m```sql\n",
            "SELECT a.Name, SUM(il.Quantity) as total_quantity\n",
            "FROM Artist a\n",
            "JOIN Album al ON a.ArtistId = al.ArtistId\n",
            "JOIN Track t ON al.AlbumId = t.AlbumId\n",
            "JOIN InvoiceLine il ON t.TrackId = il.TrackId\n",
            "GROUP BY a.Name\n",
            "ORDER BY total_quantity DESC\n",
            "LIMIT 3;\n",
            "```\u001b[0m\u001b[32;1m\u001b[1;3mIt seems like the query I provided earlier has been checked and is correct. Now I can execute it with the sql_db_query tool to get the results.\n",
            "\n",
            "Action: sql_db_query\n",
            "Action Input: \n",
            "SELECT a.Name, SUM(il.Quantity) as total_quantity\n",
            "FROM Artist a\n",
            "JOIN Album al ON a.ArtistId = al.ArtistId\n",
            "JOIN Track t ON al.AlbumId = t.AlbumId\n",
            "JOIN InvoiceLine il ON t.TrackId = il.TrackId\n",
            "GROUP BY a.Name\n",
            "ORDER BY total_quantity DESC\n",
            "LIMIT 3;\u001b[0m\u001b[36;1m\u001b[1;3m[('Iron Maiden', 140), ('U2', 107), ('Metallica', 91)]\u001b[0m\u001b[32;1m\u001b[1;3mI now know the final answer\n",
            "Final Answer: Iron Maiden, U2, and Metallica are the top 3 best selling artists, with 140, 107, and 91 sales respectively.\u001b[0m\n",
            "\n",
            "\u001b[1m> Finished chain.\u001b[0m\n"
          ]
        },
        {
          "output_type": "execute_result",
          "data": {
            "text/plain": [
              "{'input': 'Who are the top 3 best selling artists?',\n",
              " 'output': 'Iron Maiden, U2, and Metallica are the top 3 best selling artists, with 140, 107, and 91 sales respectively.'}"
            ]
          },
          "metadata": {},
          "execution_count": 15
        }
      ]
    },
    {
      "cell_type": "code",
      "source": [],
      "metadata": {
        "id": "6_kK2QEzeHeT"
      },
      "execution_count": null,
      "outputs": []
    }
  ]
}